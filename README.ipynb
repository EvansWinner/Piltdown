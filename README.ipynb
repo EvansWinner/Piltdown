{
 "cells": [
  {
   "cell_type": "markdown",
   "metadata": {},
   "source": [
    "<img src=\"Piltdown_man.jpg\" width=\"100px\" align=\"right\" alt=\"Piltdown Man\"/>\n",
    "\n",
    "# Piltdown\n",
    "[![Generic badge](https://img.shields.io/badge/Works-Kinda-<COLOR>.svg)](https://shields.io/)\n",
    "\n",
    "\n",
    "*\"Data visualiation for your tweets... making your mindless propaganda look more scientific since 2021!\"*\n",
    "\n",
    "\n",
    "> *\"We increased our conversion rate 549% with Piltdown!\"* -- Joe Blip, Fake Testimonials 'Я' Us\n",
    "\n",
    "\n",
    "> *\"Piltdown cured my son's cancer!\"* --Not the same guy as previous testimonial\n",
    "\n",
    "**OBLIGATORY SCREENSHOT**\n",
    "\n",
    "<img src=\"screenshot.jpg\" width=\"300px\" alt=\"screenshot\"/>\n",
    "\n",
    "**YE OLDE TABLE OF CONTENTS**\n",
    "\n",
    "- [Introduction](#introduction) *Wherein is answered the question of what it is and what it's for*\n",
    "    - [Caveats](#caveats)\n",
    "    - [The Basic Idea](#the-basic-idea)\n",
    "- [Installation](#installation) *Wherein is answered the question of how to get it*\n",
    "- [Documentation by Example](#documentation-by-example) *Wherein is answered the question of how to make it go go go!*\n",
    "    - [Plots](#ye-olde-plots)\n",
    "        - [Column Sparklines](#column-sparklines)\n",
    "        - [Comparison Charts](#comparison-charts)\n",
    "        - [Dot Charts](#dot-charts)\n",
    "        - [Dot Matrix Plots](#dot-matrix-plots)\n",
    "        - [Horizontal Bar Charts](#horizontal-bar-charts)\n",
    "        - [Horizontal Dot Charts](#horizontal-dot-charts)\n",
    "        - [Scaled-Up Numbers](#scaled-up-numbers)\n",
    "        - [Tables](#tables)\n",
    "        - [Tally Charts](#tally-charts)\n",
    "        - [Waffle Charts](#waffle-charts)\n",
    "        - [Win/Loss Sparklines](#win-loss-sparklines)\n",
    "    - [Utilities](#utilities)\n",
    "        - [bold()](#bold) -- Bold output using Unicode mathematical bold\n",
    "        - [cut_above()](#cut_above) -- Add a \"cut above this line\" line to the output\n",
    "        - [cut_below()](#cut_below) -- Add a \"cut below this line\" line to the output\n",
    "        - [fullwidth()](#fullwidth) -- Write text in Unicode fullwidth (alternate monospace)\n",
    "        - [monospace()](#monospace) -- Write text in Unicode fake monospace\n",
    "        - [with_char_count()](#with_char_count) -- Return failure message if a string is > 280 characters long\n",
    "        - [with_cut_lines()](#with_cut_lines) -- Wrap output in cut_below() and cut_above()\n",
    "        - [Misc_Unicode_thingies](#Misc_Unicode_thingies) -- Harvey balls, bullet points, and a few other things\n",
    "- [Hacking](#hacking) *Wherein is -- oh, this is getting boring*\n",
    "    - [Project Goals](#project-goals)\n",
    "    - [Todo](#todo)\n",
    "- [Credits](#credits)\n",
    "- [Final words](#final-words)\n",
    "\n",
    "## Introduction\n",
    "\n",
    "*or, What is it? and what's it for?*\n",
    "\n",
    "**Piltdown is a tiny, nay, even trivial Python library\n",
    "that generates Unicode strings of bar charts\n",
    "and some other data visualization thingies\n",
    "which are meant to be included in your Twitter posts.**\n",
    "\n",
    "See the Documentation section below for examples.\n",
    "\n",
    "What kind of charts, you ask? Also see the Documentation section for examples.\n",
    "\n",
    "But see all the --\n",
    "\n"
   ]
  },
  {
   "cell_type": "markdown",
   "metadata": {},
   "source": [
    "### Caveats\n",
    "\n",
    "I mean, they're pretty obvious.\n",
    "\n",
    "1. There is only so much you can do with nothing but text that is always left-justified, displayed in a very narrow column, and in a variable-width font--even with Unicode. If you think you can pull off a scatter plot with variable width Unicode in the space of a tweet, by all means, send me a PR.\n",
    "\n",
    "2. Screen readers. I don't know how many times I mention it below, but Unicode hacks are inherently unfriendly to the blind. Beware.\n",
    "\n",
    "3. You will see weird font compatibility issues. Github won't even render everything right every time in this README on Qutebrowser under Linux for me. Sometimes the column sparkline glyphs are weirdly off-center, sometimes the tally marks are missing.... Who knows? Some platform/font combinations render this stuff correctly, some don't. That's just all there is to it.\n",
    "\n",
    "I wrote this for the fun of it,\n",
    "on a lark. Don't get all testy with me."
   ]
  },
  {
   "cell_type": "markdown",
   "metadata": {},
   "source": [
    "### The Basic Idea\n",
    "\n",
    "For most of the types of plot, you will specify your data set,\n",
    "(typically a list, list of tuples, dict, etc.).\n",
    "Generating this from a dataframe or other form is your problem--Piltdown just generates strings. That's all.\n",
    "There are a million utilities that could be included\n",
    "to post your string to Twitter for you,\n",
    "or to do other Unicode tricks,\n",
    "like bold or italics,\n",
    "but at least for the moment\n",
    "Piltdown wants to do one thing and do it (tollerably) well:\n",
    "generate strings that work as data viz in the space of a tweet.\n",
    "That means generally just the graphic elements and sometimes axis labels.\n",
    "Titles and keys are mostly your problem.\n",
    "But the idea is that all you have to do is concatenate any string you want\n",
    "with the output of your Piltdown graph,\n",
    "and thus becometh Robert your parent's brother.\n",
    "\n",
    "\n",
    "## Installation\n",
    "\n",
    "Clone the repository, `cd` to your new `piltdown` directory, and then do --\n",
    "\n",
    "    pip install .\n",
    "    \n",
    "or the local equivalent (eg. `pip3 install .` )\n",
    "\n",
    "Or at some point maybe I will make it installable from PyPi or whatever it's called.\n",
    "\n",
    "Or you can just, like, load up the files any old way you want. It's pretty simple.\n",
    "\n",
    "Anyway, if you do the pip thing, then import things as you need them as per the examples in, you guessed it, the Documentation section below.\n"
   ]
  },
  {
   "cell_type": "markdown",
   "metadata": {},
   "source": [
    "## Documentation by Example\n",
    "\n",
    "### Ye Olde Plots\n",
    "In alphabetical order:"
   ]
  },
  {
   "cell_type": "markdown",
   "metadata": {},
   "source": [
    "#### Column Sparklines\n",
    "\n",
    "The Twitter plot that started it all! Lavishly praised by none other than the great Edward Tufte as \"...[better than nothing](https://www.edwardtufte.com/bboard/q-and-a-fetch-msg?msg_id=0003oC)...\"!\n",
    "\n",
    "At any rate, I noticed them and that inspired the rest of this."
   ]
  },
  {
   "cell_type": "markdown",
   "metadata": {},
   "source": [
    "##### Example\n",
    "\n",
    "Note that there are only 8 levels available, and all your numbers will be scaled based on your highest value. This isn't high-precision stuff here."
   ]
  },
  {
   "cell_type": "code",
   "execution_count": 1,
   "metadata": {},
   "outputs": [
    {
     "name": "stdout",
     "output_type": "stream",
     "text": [
      "Daily how much I like Twitter the last 10 days: ▂▄▇█　▃▄▄▁▄ on a scale of 1 to 10...\n",
      "so don't get your hopes up about another post.\n"
     ]
    }
   ],
   "source": [
    "import piltdown.column_sparkline as cspar\n",
    "\n",
    "# Data channeled by me from the spirit of an ancient cat.\n",
    "print(\"Daily how much I like Twitter the last 10 days: \" +\n",
    "     cspar.column_sparkline([2,4,8,10,0,3,4,5,1,4]) +\n",
    "     \" on a scale of 1 to 10...\\nso don't get your hopes up about another post.\")"
   ]
  },
  {
   "cell_type": "markdown",
   "metadata": {},
   "source": [
    "#### Comparison Charts\n",
    "Comparison charts are, at least minimally, just tables with checkmarks and X's in the cells. See [Tables](#tables). There is no Unicode fullwidth checkmark, so you need to use something else that is basically something in the ASCII subset that is represented by the Unicode fullwidth set. X's and O's or T's (for True) and F's (for False) are probably the best bets.\n",
    "\n",
    "The same caveat applies. Column and row headers are best kept very short."
   ]
  },
  {
   "cell_type": "markdown",
   "metadata": {},
   "source": [
    "##### Example"
   ]
  },
  {
   "cell_type": "code",
   "execution_count": 2,
   "metadata": {},
   "outputs": [
    {
     "name": "stdout",
     "output_type": "stream",
     "text": [
      "\n",
      "　　　　　　　　　Ｃｏｍ　Ｖｅｒ　Ａｗｅ\n",
      "Ｍｐｌｉｂ　　　　Ｔ　　　Ｔ　　　Ｆ　　\n",
      "Ｇｇｐｌｏｔ２　　Ｔ　　　Ｔ　　　Ｆ　　\n",
      "Ｐｉｌｔｄｏｗｎ　Ｆ　　　Ｆ　　　Ｔ　　\n",
      "\n",
      "Mplib = Matplotlib\n",
      "Com = Comprehensive; Ver = Well-verified; Awe = Awesome\n"
     ]
    }
   ],
   "source": [
    "import piltdown.table as tbl\n",
    "import piltdown.literals as lit\n",
    "\n",
    "# Data based on, well duh, obviously.\n",
    "print(\"\\n\" +\n",
    "    tbl.table([[\"\",         \"Com\", \"Ver\", \"Awe\"],\n",
    "               [\"Mplib\",    \"T\",   \"T\",   \"F\"],\n",
    "               [\"Ggplot2\",  \"T\",   \"T\",   \"F\"],\n",
    "               [\"Piltdown\", \"F\",   \"F\",   \"T\"]]\n",
    "              ) +\n",
    "                \"\\nMplib = Matplotlib\\n\" +\n",
    "                \"Com = Comprehensive; Ver = Well-verified; Awe = Awesome\"\n",
    ")"
   ]
  },
  {
   "cell_type": "markdown",
   "metadata": {},
   "source": [
    "#### Dot Charts"
   ]
  },
  {
   "cell_type": "markdown",
   "metadata": {},
   "source": [
    "##### Example\n",
    "\n",
    "Note that the number of characters used is Width x max height, because it has to be padded with whitespace characters. The one below, for example, is 10 high, plus one more for the label, which means 11 times 7 = 77 characters."
   ]
  },
  {
   "cell_type": "code",
   "execution_count": 3,
   "metadata": {},
   "outputs": [
    {
     "name": "stdout",
     "output_type": "stream",
     "text": [
      "Number of Episodes of Animaniacs My Son Watched This Week\n",
      "\n",
      "　　　　＊　　\n",
      "　　　　＊　　\n",
      "　　　　＊　＊\n",
      "　　　　＊　＊\n",
      "　　＊　＊　＊\n",
      "　　＊　＊＊＊\n",
      "＊　＊　＊＊＊\n",
      "＊＊＊　＊＊＊\n",
      "＊＊＊　＊＊＊\n",
      "ＭＴＷＲＦＳＵ\n",
      "\n"
     ]
    }
   ],
   "source": [
    "import piltdown.dot_chart as dc\n",
    "\n",
    "# Data seems about right.\n",
    "print(\"Number of Episodes of Animaniacs My Son Watched This Week\\n\" +\n",
    "      dc.dot_chart([3, 2, 5, 0, 9, 4, 7],\n",
    "                  [\"M\", \"T\", \"W\", \"R\", \"F\", \"S\", \"U\"]))"
   ]
  },
  {
   "cell_type": "markdown",
   "metadata": {},
   "source": [
    "##### Example\n",
    "\n",
    "You can also use literals.DEFAULT_LABELS for labels and then include a key --"
   ]
  },
  {
   "cell_type": "code",
   "execution_count": 4,
   "metadata": {},
   "outputs": [
    {
     "name": "stdout",
     "output_type": "stream",
     "text": [
      "Who Knocked On My Door Today?\n",
      "　＊　\n",
      "＊＊　\n",
      "＊＊　\n",
      "＊＊＊\n",
      "ＡＢＣ\n",
      "\n",
      "A = Jehovah's Witnesses; B = Mormons; C = Avon Lady\n"
     ]
    }
   ],
   "source": [
    "import piltdown.dot_chart as dc\n",
    "import piltdown.literals as lit\n",
    "\n",
    "# Now I'm just being mean...\n",
    "print(\"Who Knocked On My Door Today?\" +\n",
    "      dc.dot_chart([3, 4, 1],\n",
    "      lit.DEFAULT_LABELS) +\n",
    "      \"\\nA = Jehovah's Witnesses; B = Mormons; C = Avon Lady\"\n",
    "     )"
   ]
  },
  {
   "cell_type": "markdown",
   "metadata": {},
   "source": [
    "#### Dot Matrix Plot\n",
    "\n",
    "See [Waffle Charts](#waffle-charts)."
   ]
  },
  {
   "cell_type": "markdown",
   "metadata": {},
   "source": [
    "#### Horizontal Bar Charts"
   ]
  },
  {
   "cell_type": "markdown",
   "metadata": {},
   "source": [
    "##### Example\n",
    "\n",
    "Basic bar chart. Bars will be scaled. The resolution is 1/8th of a character width."
   ]
  },
  {
   "cell_type": "code",
   "execution_count": 5,
   "metadata": {},
   "outputs": [
    {
     "name": "stdout",
     "output_type": "stream",
     "text": [
      "𝐖𝐡𝐢𝐜𝐡 𝐬𝐡𝐨𝐮𝐥𝐝 𝐜𝐨𝐬𝐭 𝐥𝐞𝐬𝐬: 𝐚\n",
      "𝐠𝐚𝐥𝐥𝐨𝐧 𝐨𝐟 𝐠𝐚𝐬 𝐨𝐫 𝐚 𝐠𝐚𝐥𝐥𝐨𝐧 𝐨𝐟 𝐦𝐢𝐥𝐤?\n",
      "\n",
      "ＹＥＳ　％　█████████43\n",
      "　ＮＯ　％　████████████57\n",
      "\n"
     ]
    }
   ],
   "source": [
    "import piltdown.hbar_chart as hbar\n",
    "import piltdown.util as util\n",
    "import piltdown.literals as lit\n",
    "\n",
    "# Source: https://i.imgur.com/CswBFYU.jpg\n",
    "print(util.bold(\"Which should cost less: a\\ngallon of gas or a gallon of milk?\\n\\n\") +\n",
    "                hbar.hbar([43, 57], [\"YES % \", \"NO % \"]))"
   ]
  },
  {
   "cell_type": "markdown",
   "metadata": {},
   "source": [
    "##### Example\n",
    "\n",
    "If you omit the second, `labels` argument, `lit.DEFAULT_LABELS` will be used. You can also pass an explicit `max_line_length` argument to change the length of the longest line including label and the values printed at the end of each line. Default is currently 20.\n",
    "\n",
    "If `print_values` is `False` then it will suppress those values."
   ]
  },
  {
   "cell_type": "code",
   "execution_count": 6,
   "metadata": {},
   "outputs": [
    {
     "name": "stdout",
     "output_type": "stream",
     "text": [
      "Ａ█▌0.23\n",
      "Ｂ████████▊1.4\n",
      "Ｃ█▉0.3\n",
      "Ｄ█████████████████████████4\n",
      "\n",
      "--------------------\n",
      "\n",
      "Ａ█████\n",
      "Ｂ██████████\n",
      "Ｃ███████████████\n",
      "\n",
      "--------------------\n",
      "\n",
      "𝐔𝐒 𝐂𝐨𝐯𝐢𝐝 𝟏𝟗 𝐃𝐞𝐚𝐭𝐡𝐬 𝐛𝐲 𝐌𝐨𝐧𝐭𝐡, 𝐉𝐮𝐥-𝐃𝐞𝐜 𝟐𝟎𝟐𝟎\n",
      "\n",
      "Ｊｕｌ█████▏24863\n",
      "Ａｕｇ██████▎30239\n",
      "Ｓｅｐ████▉23336\n",
      "Ｏｃｔ████▉23578\n",
      "Ｎｏｖ███████▋36596\n",
      "Ｄｅｃ████████████57638\n",
      "\n",
      "Source: https://bit.ly/3eYNVYw\n",
      "--------------------\n",
      "\n",
      "𝐂𝐎𝐌𝐏𝐎𝐒𝐈𝐓𝐈𝐎𝐍 𝐎𝐅 𝐓𝐇𝐄 𝐌𝐎𝐎𝐍 % 𝐓𝐀𝐊𝐄𝐍 𝐅𝐑𝐎𝐌 𝐋𝐔𝐍𝐀𝐑 𝐒𝐎𝐈𝐋\n",
      "\n",
      "　Ｏ████████████████42\n",
      "Ｓｉ████████21\n",
      "Ｆｅ█████13\n",
      "Ｃａ███8\n",
      "Ａｌ██▋7\n",
      "Ｍｇ██▎6\n",
      "　Ｘ█▏3\n",
      "\n",
      "X=Other; source: my son's t-shirt\n"
     ]
    }
   ],
   "source": [
    "import piltdown.hbar_chart as hbar\n",
    "import piltdown.util as util\n",
    "\n",
    "print(hbar.hbar([0.23,1.4,0.3,4], max_line_len=30))\n",
    "\n",
    "print(\"-\" * 20 + \"\\n\")\n",
    "\n",
    "print(hbar.hbar([1000,2000,3000],print_values=False))\n",
    "\n",
    "print(\"-\" * 20 + \"\\n\")\n",
    "\n",
    "print(util.bold(\"US Covid 19 Deaths by Month, Jul-Dec 2020\") + \"\\n\\n\" +\n",
    "      hbar.hbar([24863,30239,23336,23578,36596,57638],\n",
    "                [\"Jul\",\"Aug\",\"Sep\",\"Oct\",\"Nov\",\"Dec\"]) +\n",
    "      \"\\nSource: https://bit.ly/3eYNVYw\")\n",
    "\n",
    "print(\"-\" * 20 + \"\\n\")\n",
    "\n",
    "print(util.bold(\"COMPOSITION OF THE MOON % TAKEN FROM LUNAR SOIL\") + \"\\n\\n\" +\n",
    "      hbar.hbar([42,21,13,8,7,6,3],[\"O\",\"Si\",\"Fe\",\"Ca\",\"Al\",\"Mg\",\"X\"]) +\n",
    "      \"\\nX=Other; source: my son's t-shirt\")"
   ]
  },
  {
   "cell_type": "markdown",
   "metadata": {},
   "source": [
    "#### Horizontal Dot Charts\n",
    "\n",
    "Not to be confused with a dot plot.\n",
    "This is the kind of thing they use on Khan Acadamy\n",
    "to teach small children about data.\n",
    "This is the horizontal version.\n",
    "\n",
    "##### Example\n",
    "\n",
    "Note Labels are automatically converted to the Unicode manthimatical \"fullwidth\" characters, which do not play nicely with screen readers. Beware the righteous wrath of the screen reader user."
   ]
  },
  {
   "cell_type": "code",
   "execution_count": 7,
   "metadata": {},
   "outputs": [
    {
     "name": "stdout",
     "output_type": "stream",
     "text": [
      "How many times I ate chocolate this week:\n",
      "\n",
      "Ｍｏ|⚫⚫⚫\n",
      "Ｔｕ|⚫⚫\n",
      "Ｗｅ|⚫⚫⚫⚫\n",
      "Ｔｈ|\n",
      "Ｆｒ|⚫⚫\n",
      "Ｓａ|⚫\n",
      "Ｓｕ|⚫⚫⚫⚫\n"
     ]
    }
   ],
   "source": [
    "import piltdown.hdot_chart as hdot\n",
    "\n",
    "# Data completely made up and implausible.\n",
    "print(\n",
    "    \"How many times I ate chocolate this week:\\n\\n\"\n",
    "    + hdot.hdot_chart(\n",
    "        [3, 2, 4, 0, 2, 1, 4],\n",
    "        [\"Mo\", \"Tu\", \"We\", \"Th\", \"Fr\", \"Sa\", \"Su\"]\n",
    "    )\n",
    ")"
   ]
  },
  {
   "cell_type": "markdown",
   "metadata": {},
   "source": [
    "#### Scaled Up Numbers\n",
    "\n",
    "High tech."
   ]
  },
  {
   "cell_type": "markdown",
   "metadata": {},
   "source": [
    "##### Example\n",
    "\n",
    "Se literals.py for the font definitions. By all means, send me a PR with a better version, or additional fonts.\n",
    "\n",
    "Would like to support all digits, the comma (,) the period (.) and the percent (%) sign at the least.\n",
    "\n",
    "Use `leading_pad` to adjust left-padding to center your number if you want, but remember that will take up `leading_pad` times number of lines in the font of your alloted 280 tweet characters. So in the case below, the pad alone takes up 50 characters, and the total for the number below is therefore 85 (the default font is 3x5 chars plus an extra column blank between each number). The default padding is 4."
   ]
  },
  {
   "cell_type": "code",
   "execution_count": 8,
   "metadata": {},
   "outputs": [
    {
     "name": "stdout",
     "output_type": "stream",
     "text": [
      "　　　　　　　　　　░░▟　▄▆▖\n",
      "　　　　　　　　　　░▞█　▘░▛\n",
      "　　　　　　　　　　▟▄█　░▞░\n",
      "　　　　　　　　　　░░█　▐░░\n",
      "　　　　　　　　　　░░█　█▄▟\n",
      "\n",
      "Meaning of life, the Universe, and everything.\n"
     ]
    }
   ],
   "source": [
    "import piltdown.scaled_up_number as sun\n",
    "\n",
    "# Can I get my nerd card punched now?\n",
    "print(sun.scaled_up_number(\"42\", leading_pad=10) +\n",
    "     \"\\nMeaning of life, the Universe, and everything.\")"
   ]
  },
  {
   "cell_type": "markdown",
   "metadata": {},
   "source": [
    "##### Example\n",
    "\n",
    "With this one, the number takes up 155 characters.\n",
    "\n",
    "**NOTE** however, that on a cell phone I don't think you can count on lines of more than about 20 characters, so this would actually try to wrap, I believe. Maybe I should try it on Twitter and see."
   ]
  },
  {
   "cell_type": "code",
   "execution_count": 9,
   "metadata": {},
   "outputs": [
    {
     "name": "stdout",
     "output_type": "stream",
     "text": [
      "　░█░　░░░　▄▆▖　▟▀▙　▛▀▜　░░░　▛▀█　█░▞\n",
      "　▞█░　░░░　▘░▛　░░█　▌░░　░░░　░░▛　░▐░\n",
      "　░█░　░░░　░▞░　░█░　█▀▙　░░░　░▞░　░▞░\n",
      "　░█░　░░░　▐░░　░░█　░░▐　░░░　▐░░　░▌░\n",
      "　▗█▖　░▜░　█▄▟　▜▄▛　█▄▛　░▖░　█░░　▞░█\n",
      "\n",
      "Your Mom's age compared to mine, as a very precise percentage.\n"
     ]
    }
   ],
   "source": [
    "import piltdown.scaled_up_number as sun\n",
    "\n",
    "# Sorry.\n",
    "print(sun.scaled_up_number(\"1,235.7%\", leading_pad=0) +\n",
    "     \"\\nYour Mom's age compared to mine, as a very precise percentage.\")"
   ]
  },
  {
   "cell_type": "markdown",
   "metadata": {},
   "source": [
    "#### Tables\n",
    "\n",
    "Very small tables can be done using the `util.fullwidth` trick (see under Utilites below). Little two-way contingency tables might be done, for example."
   ]
  },
  {
   "cell_type": "markdown",
   "metadata": {},
   "source": [
    "##### Example\n",
    "\n",
    "Note that you can use strings or floats/ints and they will converted to strings automatically.\n",
    "\n",
    "Also note that an empty string will be interpreted as an empty cell.\n",
    "\n",
    "At the moment that's all there is. No fancy cell/row/column borders or anything else."
   ]
  },
  {
   "cell_type": "code",
   "execution_count": 10,
   "metadata": {},
   "outputs": [
    {
     "name": "stdout",
     "output_type": "stream",
     "text": [
      "Handedness (L or R) vs. Sex (M or F) Contingency Table\n",
      "　　　　Ｒ　　Ｌ　　Ｔｏｔ\n",
      "Ｍ　　　４３　９　　５２　\n",
      "Ｆ　　　４４　４　　４８　\n",
      "Ｔｏｔ　８７　１３　１００\n",
      "\n"
     ]
    }
   ],
   "source": [
    "import piltdown.table as tbl\n",
    "\n",
    "# Data imaginatively cribed from the Wikipedia entry for \"Contingency Table.\"\n",
    "print(\"Handedness (L or R) vs. Sex (M or F) Contingency Table\\n\" +\n",
    "    tbl.table([[\"\",   \"R\", \"L\", \"Tot\"],\n",
    "               [\"M\",   43,  9,   52],\n",
    "               [\"F\",   44,  4,   48],\n",
    "               [\"Tot\", 87,  13,  100]]\n",
    "              )\n",
    ")"
   ]
  },
  {
   "cell_type": "markdown",
   "metadata": {},
   "source": [
    "#### Tally Charts\n",
    "\n",
    "Another one they use to teach \"data literacy\" to kids, mostly, I think."
   ]
  },
  {
   "cell_type": "markdown",
   "metadata": {},
   "source": [
    "##### Example\n",
    "\n",
    "Not super pretty, as the tally characters have slightly slanted lines. There might be a better way to do the onesie-twosie characters. Also, they don't seem to work in whatever font Github uses for this README.\n",
    "\n",
    "Note that you want your labels to be all the same length. If that's not conventient, I recommend using A, B, C, etc. or something similar, and then including a key below your chart."
   ]
  },
  {
   "cell_type": "code",
   "execution_count": 11,
   "metadata": {},
   "outputs": [
    {
     "name": "stdout",
     "output_type": "stream",
     "text": [
      "How Many Chocolate Bars My Family Ate This Week\n",
      "\n",
      "Ｍｏ￤ᚎ　\n",
      "Ｔｕ￤ᚎ　ᚎ　𝍩\n",
      "Ｗｅ￤𝍫\n",
      "Ｔｈ￤\n",
      "Ｆｒ￤ᚎ　ᚎ　ᚎ　𝍫\n",
      "Ｓａ￤ᚎ　ᚎ　ᚎ　ᚎ　ᚎ　𝍩\n",
      "Ｓｕ￤ᚎ　ᚎ　ᚎ　𝍪\n",
      "\n"
     ]
    }
   ],
   "source": [
    "import piltdown.tally as tally\n",
    "\n",
    "# Data completely made up. What kind of gluttons do you think we are?\n",
    "print(\"How Many Chocolate Bars My Family Ate This Week\\n\\n\" +\n",
    "     tally.tally({\"Mo\": 5, \"Tu\": 11, \"We\": 3, \"Th\": 0, \"Fr\": 18, \"Sa\": 26, \"Su\": 17})\n",
    "     )"
   ]
  },
  {
   "cell_type": "markdown",
   "metadata": {},
   "source": [
    "#### Win Loss Sparklines\n",
    "\n",
    "Tastes as good as it sounds!"
   ]
  },
  {
   "cell_type": "markdown",
   "metadata": {},
   "source": [
    "##### Example\n",
    "\n",
    "Note that you are basically just plotting signum of whatever numbers you give. \n",
    "\n",
    "Also note that a zero plots as a thin line through the middle."
   ]
  },
  {
   "cell_type": "code",
   "execution_count": 12,
   "metadata": {},
   "outputs": [
    {
     "name": "stdout",
     "output_type": "stream",
     "text": [
      "My sleep time for the last 7 days, greater than or less than 8 hours: ▀▄▄▀－▀ rounded to nearest half hour.\n"
     ]
    }
   ],
   "source": [
    "import piltdown.win_loss_sparkline as wl\n",
    "\n",
    "# Actual data from my Garmin watch doodad.\n",
    "print(\"My sleep time for the last 7 days, greater than or less than 8 hours: \" +\n",
    "     wl.win_loss_sparkline([2.3, -3, -0.1, 2, 0, 67]) +\n",
    "     \" rounded to nearest half hour.\" \n",
    "     )"
   ]
  },
  {
   "cell_type": "markdown",
   "metadata": {},
   "source": [
    "#### Waffle Charts\n",
    "\n",
    "Just at the moment you can select your own glyphs, or use `literals.WAFFLES_COLOR` (the default) or `literals.WAFFLES_GRAYSCALE`, or roll your own.\n",
    "\n",
    "**Note** that I think these glyphs are being counted as two characters each, so that means a 10x10 waffle would cound as 210 characters on your limit (including the 10 newline characters). So... be knowing of that.\n",
    "\n",
    "**Alzo note** The moiré effect of the grayscale glyphs is pretty terrible. Use the color ones if you can, or roll your own.\n",
    "\n",
    "**Alzo alzo note** The `layout` argument is a tuple of two integers: preffered `[width,height]`. Zero means calculate based on the other value. Two zeros (the default) means try to get as close to a square as possible.\n",
    "\n",
    "Waffles fill from top to bottom, first left-to-right, then right-to-left in alternating lines. I intend to write something that will let you fill from top to bottom, but writing the routine that rotates ragged two-dimensional lists is, you know, a job for a real programmer.\n",
    "\n",
    "Also, at the moment some glyphs aren't the same size as others in some fonts, so a little testing on Twitter might be called for."
   ]
  },
  {
   "cell_type": "markdown",
   "metadata": {},
   "source": [
    "##### Example"
   ]
  },
  {
   "cell_type": "code",
   "execution_count": 13,
   "metadata": {},
   "outputs": [
    {
     "name": "stdout",
     "output_type": "stream",
     "text": [
      "Pets Owned by Aliens by %\n",
      "🟥🟥🟥🟥🟥🟥🟥🟥🟥🟥\n",
      "🟥🟥🟥🟥🟥🟥🟦🟦🟦🟦\n",
      "🟦🟦🟦🟦🟦🟦🟦🟦🟦🟦\n",
      "🟦🟦🟦🟦🟦🟦🟦🟦🟦🟦\n",
      "🟦🟦🟦🟦🟦🟦🟦🟦🟦🟦\n",
      "🟦🟦🟦🟦🟦🟦🟦🟦🟦🟦\n",
      "🟦🟦🟦🟦🟦🟦🟦🟦🟦🟦\n",
      "🟦🟦🟦🟦🟦🟦🟦🟦🟦🟦\n",
      "🟨🟨🟨🟨🟨🟨🟨🟨🟦🟦\n",
      "🟨🟨🟨🟨🟨🟨🟨🟨🟨🟨\n",
      "\n",
      "🟥 = Babel Fish; 🟦 = Tribble; 🟨 = Wookie\n",
      "\n"
     ]
    }
   ],
   "source": [
    "import piltdown.waffle as wfl\n",
    "\n",
    "# Completely real data.\n",
    "print(\"Pets Owned by Aliens by %\\n\" + \n",
    "      wfl.waffle([16, 66, 18], [\"Babel Fish\", \"Tribble\", \"Wookie\"])\n",
    "     )"
   ]
  },
  {
   "cell_type": "markdown",
   "metadata": {},
   "source": [
    "##### Example\n",
    "\n",
    "You can do \"dot matrix plots\" as well, using the `literals.DOTMATRIX`.\n",
    "Let's get real. It's basically just another kind of Waffle chart.\n",
    "\n",
    "Observe that the routine that tries to make the result into a rectangle can only do so much if you give it oddly-lengthed data."
   ]
  },
  {
   "cell_type": "code",
   "execution_count": 14,
   "metadata": {},
   "outputs": [
    {
     "name": "stdout",
     "output_type": "stream",
     "text": [
      "Proportion of different colored dots in the below self-referential plot:\n",
      "🔴🔴🔴🔴🔴🔴🔴🔴\n",
      "🔴🔴🔴🔴🔴🔵🔵🔵\n",
      "🔵🔵🔵🔵🔵🔵🔵🔵\n",
      "🔵🔵🔵🔵🔵🔵🔵🔵\n",
      "🟠🟠🟠🟠🔵🔵🔵🔵\n",
      "🟠🟠🟠🟠🟠🟠🟠🟠\n",
      "🟡🟡🟠🟠🟠🟠🟠🟠\n",
      "🟡\n",
      "\n",
      "🔴 = First color; 🔵 = Second ; 🟠 = Third; 🟡 = Fourth\n",
      "\n"
     ]
    }
   ],
   "source": [
    "import piltdown.waffle as wfl\n",
    "import piltdown.literals as lit\n",
    "\n",
    "# Completely real data.\n",
    "print(\"Proportion of different colored dots in the below self-referential plot:\\n\" + \n",
    "      wfl.waffle([13, 23, 18, 3], [\"First color\", \"Second \", \"Third\", \"Fourth\"], glyphs = lit.DOTMATRIX)\n",
    "     )"
   ]
  },
  {
   "cell_type": "markdown",
   "metadata": {},
   "source": [
    "### Utilities\n",
    "\n",
    "Various little helpers which you may variously find helpful."
   ]
  },
  {
   "cell_type": "markdown",
   "metadata": {},
   "source": [
    "#### bold()\n",
    "\n",
    "Fake bold using the Unicode mathematical bold characters for Latin and Greek capitals and miniscules, and Arabic digits. Yet again I warn you: screen readers might not like this.\n",
    "\n",
    "You can include any other character you like (eg., punctuation characters) but they will simply be passed to the return string unchanged."
   ]
  },
  {
   "cell_type": "markdown",
   "metadata": {},
   "source": [
    "##### Example"
   ]
  },
  {
   "cell_type": "code",
   "execution_count": 15,
   "metadata": {},
   "outputs": [
    {
     "name": "stdout",
     "output_type": "stream",
     "text": [
      "This is a 𝐯𝐞𝐫𝐲 \"𝐢𝐦𝐩𝐨𝐫𝐭𝐚𝐧𝐭\" 𝐭𝐡𝐢𝐧𝐠 𝐭𝐨 𝐬𝐚𝐲!\n"
     ]
    }
   ],
   "source": [
    "import piltdown.util as util\n",
    "\n",
    "print(\"This is a \" + util.bold('very \"important\" thing to say!'))"
   ]
  },
  {
   "cell_type": "markdown",
   "metadata": {},
   "source": [
    "#### fullwidth\n",
    "\n",
    "Convert text to fake monospace using the Unicode \"fullwidth\" character set. Yet again I mention that this does not play well with screen readers. With this you have access to punctuation characters (unlike the monospace() function) but the tradeoff is that they are very wide, and it doesn't take many to go as wide as works on a Twitter on a cell phone."
   ]
  },
  {
   "cell_type": "markdown",
   "metadata": {},
   "source": [
    "##### Example"
   ]
  },
  {
   "cell_type": "code",
   "execution_count": 16,
   "metadata": {},
   "outputs": [
    {
     "name": "stdout",
     "output_type": "stream",
     "text": [
      "Ｗｉｔｔｙ　ｅｘａｍｐｌｅ　ｔｅｘｔ．\n"
     ]
    }
   ],
   "source": [
    "import piltdown.util as util\n",
    "\n",
    "print(util.fullwidth(\"Witty example text.\"))"
   ]
  },
  {
   "cell_type": "markdown",
   "metadata": {},
   "source": [
    "#### monospace\n",
    "\n",
    "Fake monospace with Unicode mathimatical monospace. The only characters, though, are Latin capitals and miniscules and Arabic digits. **NOTE No punctuation! and no SPACE character!** So, if you need those things, try `fullwidth()` which has them, but which is very wide, and for which therefore fewer characters fit in a tweet on a narrow cell phone screen."
   ]
  },
  {
   "cell_type": "markdown",
   "metadata": {},
   "source": [
    "##### Example"
   ]
  },
  {
   "cell_type": "code",
   "execution_count": 17,
   "metadata": {},
   "outputs": [
    {
     "name": "stdout",
     "output_type": "stream",
     "text": [
      "𝙵𝚘𝚘𝚋𝚊𝚛\n"
     ]
    }
   ],
   "source": [
    "import piltdown.util as util\n",
    "\n",
    "print(util.monospace(\"Foobar\"))"
   ]
  },
  {
   "cell_type": "markdown",
   "metadata": {},
   "source": [
    "#### with_char_count\n",
    "\n",
    "Use to wrap output. It will return a failure message if your string is longer than 280 characters.\n",
    "\n",
    "**OBVIOUS NOTE** If you're going to use `with_cut_lines` or similar with this, put the call to that *outside* of the call to `with_char_count`, or else you'll end up counting the cut lines."
   ]
  },
  {
   "cell_type": "markdown",
   "metadata": {},
   "source": [
    "#### Misc Unicode thingies\n",
    "\n",
    "See the bottom of piltdown/literals.py for some variables\n",
    "bound to various Unicode characters that might be useful,\n",
    "like Harvey balls, bullet points, and so forth.\n"
   ]
  },
  {
   "cell_type": "code",
   "execution_count": 18,
   "metadata": {},
   "outputs": [
    {
     "name": "stdout",
     "output_type": "stream",
     "text": [
      "This is short enough to be a tweet!\n",
      "String too long to post on Twitter\n"
     ]
    }
   ],
   "source": [
    "import piltdown.util as util\n",
    "\n",
    "print(util.with_char_count(\"This is short enough to be a tweet!\"))\n",
    "\n",
    "print(util.with_char_count(\"x\" * 281))"
   ]
  },
  {
   "cell_type": "markdown",
   "metadata": {},
   "source": [
    "## Hacking\n",
    "\n",
    "#### Project goals\n",
    "\n",
    "(Other than the lulz)\n",
    "\n",
    "- Simple\n",
    "- *Really simple*\n",
    "- Simple enough to just write static documentation-by-examples here in the README\n",
    "- Simple enough that the examples in the documentation here can serve as a rudimentary test suite\n",
    "- (Mostly) don't try to do anything but create the charts and graphs.\n",
    "  Just functions that return strings.\n",
    "  Leave Twitter posting, statistical preprocessing,\n",
    "  and mixing output with other strings (titles, general writing, etc.)\n",
    "  to the user/other libraries.\n",
    "- Easy to use.\n",
    "- Portable with no dependencies other than basic Python 3\n",
    "- Just focused on the Twitter use case.\n",
    "  Not a general solution to the *Grand ASCII-art Data Viz Problem*,\n",
    "  which is never-ending.\n",
    "  \n",
    "#### And also\n",
    "\n",
    "The README is generated from this Jupyter notebook. Don't forget to re-export it to README.md if you make changes.\n",
    "\n",
    "#### TODO\n",
    "\n",
    "- Instead of telling people to have labels all the same length (eg. horizontal dot chart) just pad to max(len(...))\n",
    "- Better examples. Better... or at least funnier.\n",
    "\n",
    "A list of plots I got somewhere that looked at a quick glance like they might be possible. Not to be interpreted as firm intentions. More or less in descending order of priority.\n",
    "\n",
    "- bullet diagram\n",
    "- stem and leaf \n",
    "- heatmap\n",
    "- boxplot\n",
    "- stacked bar\n",
    "- grouped barchart\n",
    "- pictorial unit -- basically allow custom characters for the dot chart, one per line"
   ]
  },
  {
   "cell_type": "markdown",
   "metadata": {},
   "source": [
    "## Credits\n",
    "\n",
    "In the immortal words of Olin Shivers: I did it. I did it all, by myself."
   ]
  },
  {
   "cell_type": "markdown",
   "metadata": {},
   "source": [
    "## Final words\n",
    "\n",
    "This yak... is shaved."
   ]
  }
 ],
 "metadata": {
  "kernelspec": {
   "display_name": "Python 3 (ipykernel)",
   "language": "python",
   "name": "python3"
  },
  "language_info": {
   "codemirror_mode": {
    "name": "ipython",
    "version": 3
   },
   "file_extension": ".py",
   "mimetype": "text/x-python",
   "name": "python",
   "nbconvert_exporter": "python",
   "pygments_lexer": "ipython3",
   "version": "3.9.12"
  }
 },
 "nbformat": 4,
 "nbformat_minor": 4
}
