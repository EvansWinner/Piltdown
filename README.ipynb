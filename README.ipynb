{
 "cells": [
  {
   "cell_type": "markdown",
   "metadata": {},
   "source": [
    "# Piltdown\n",
    "\n",
    "<img src=\"Piltdown_man.jpg\" width=\"100px\" align=\"right\" alt=\"Piltdown Man\"/>\n",
    "\n",
    "*\"Making your mindless Twitter propaganda look more scientific since 2021!\"*\n",
    "\n",
    "**YE OLDE TABLE OF CONTENTS**\n",
    "\n",
    "1. **Introduction** *Wherein is answered the question of what it is and what it's for*\n",
    "3. **Installation** *Wherein is answered the question of how to make it go*\n",
    "2. **Documentation by Examples** *Wherein is answered the question of how to use it*\n",
    "4. **Hacking** *Wherein is -- oh, this is getting boring*\n",
    "\n",
    "## Introduction\n",
    "\n",
    "*or, What is it? and what's it for?*\n",
    "\n",
    "Piltdown is a tiny, nay, even trivial Python library\n",
    "that generates Unicode strings of bar charts\n",
    "and some other data visualization thingies\n",
    "which are meant to be included in your Twitter posts.\n",
    "\n",
    "See the Documentation section below for examples.\n",
    "\n",
    "What kind of charts, you ask? Also see the Documentation section for examples.\n",
    "\n",
    "But see all the caveats.\n",
    "I mean, they're pretty obvious.\n",
    "There is only so much you can do with nothing but text\n",
    "that is always left-justified,\n",
    "displayed in a very narrow column,\n",
    "and in a variable-width font--\n",
    "even with Unicode.\n",
    "If you think you can pull off a scatter plot with variable width Unicode in the space of a tweet, by all means, send me a PR.\n",
    "\n",
    "I wrote this for the fun of it,\n",
    "on a lark. Don't get all testy with me.\n",
    "\n",
    "### The Basic Idea\n",
    "\n",
    "For most of the types of plot, you will specify your data set,\n",
    "(typically a list, list of tuples, dict, etc.).\n",
    "Generating this from a datafrane or other form is your problem--Piltdown just generates strings. That's all.\n",
    "There are a million utilities that could be included\n",
    "to post your string to Twitter for you,\n",
    "or to do other Unicode tricks,\n",
    "like bold or italics,\n",
    "but at least for the moment\n",
    "Piltdown wants to do one thing and do it (tollerably) well:\n",
    "generate strings that work as data viz in the space of a tweet.\n",
    "That means generally just the graphic elements and sometimes axis labels.\n",
    "Titles and keys are mostly your problem.\n",
    "But the idea is that all you have to do is concatenate any string you want\n",
    "with the output of your Piltdown graph,\n",
    "and thus becometh Robert your parent's brother.\n",
    "\n",
    "\n",
    "## Installation\n",
    "\n",
    "Clone the repository and do \n",
    "\n",
    "    pip install .\n",
    "    \n",
    "or the local equivalent (eg. pip3 install . )\n",
    "\n",
    "Or at some point maybe I will make it installable from PyPi or whatever it is.\n",
    "\n",
    "Or you can just, like, load up the files any old way you want. It's pretty simple.\n",
    "\n",
    "Anyway, if you do the pip thing, then import things as you need them as per the examples in, you guessed it, the Documentation section below.\n"
   ]
  },
  {
   "cell_type": "markdown",
   "metadata": {},
   "source": [
    "## Documentation by Example, or Ye Olde Plots\n",
    "\n",
    "In alphabetical order:\n",
    "\n",
    " - Horizontal Dot Charts\n",
    " - Tables"
   ]
  },
  {
   "cell_type": "markdown",
   "metadata": {},
   "source": [
    "### Horizontal Dot Chart\n",
    "\n",
    "Not to be confused with a dot plot.\n",
    "This is the kind of thing they use on Khan Acadamy\n",
    "to teach small children about data.\n",
    "This is the horizontal version.\n",
    "\n",
    "#### Example\n",
    "\n",
    "Note Labels are automatically converted to the Unicode manthimatical \"fullwidth\" characters, which do not play nicely with screen readers. Beware the righteous wrath of the screen reader user."
   ]
  },
  {
   "cell_type": "code",
   "execution_count": 1,
   "metadata": {},
   "outputs": [
    {
     "name": "stdout",
     "output_type": "stream",
     "text": [
      "How many times I ate chocolate this week:\n",
      "\n",
      "Ｍｏ|⚫⚫⚫\n",
      "Ｔｕ|⚫⚫\n",
      "Ｗｅ|⚫⚫⚫⚫\n",
      "Ｔｈ|\n",
      "Ｆｒ|⚫⚫\n",
      "Ｓａ|⚫\n",
      "Ｓｕ|⚫⚫⚫⚫\n"
     ]
    }
   ],
   "source": [
    "import piltdown.hdot_chart as hdot\n",
    "\n",
    "print(\n",
    "    \"How many times I ate chocolate this week:\\n\\n\"\n",
    "    + hdot.hdot_chart(\n",
    "        [3, 2, 4, 0, 2, 1, 4], [\"Mo\", \"Tu\", \"We\", \"Th\", \"Fr\", \"Sa\", \"Su\"]\n",
    "    )\n",
    ")\n"
   ]
  },
  {
   "cell_type": "markdown",
   "metadata": {},
   "source": [
    "### Table\n",
    "\n",
    "Very small tables can be done using the util.to_monospace trick. Little two-way contingency tables might be done, for example."
   ]
  },
  {
   "cell_type": "markdown",
   "metadata": {},
   "source": [
    "#### Example\n",
    "\n",
    "Note that you can use strings or floats/ints and they will converted to strings automatically.\n",
    "\n",
    "Also note that an empty string will be interpreted as an empty cell.\n",
    "\n",
    "At the moment that's all there is. No fancy cell/row/column borders or anything else."
   ]
  },
  {
   "cell_type": "code",
   "execution_count": 4,
   "metadata": {},
   "outputs": [
    {
     "name": "stdout",
     "output_type": "stream",
     "text": [
      "Handedness (L or R) vs. Sex (M or F) Contingency Table\n",
      "　　　　Ｒ　　Ｌ　　Ｔｏｔ\n",
      "Ｍ　　　４３　９　　５２　\n",
      "Ｆ　　　４４　４　　４８　\n",
      "Ｔｏｔ　８７　１３　１００\n",
      "\n"
     ]
    }
   ],
   "source": [
    "import piltdown.table as tbl\n",
    "\n",
    "# Data cleverly cribed from the Wikipedia entry for \"Contingency Table.\"\n",
    "print(\"Handedness (L or R) vs. Sex (M or F) Contingency Table\\n\" +\n",
    "    tbl.table([[\"\", \"R\",\"L\",\"Tot\"],\n",
    "               [\"M\",43,9,52],\n",
    "               [\"F\",44,4,48],\n",
    "               [\"Tot\",87,13,100]]\n",
    "              )\n",
    ")"
   ]
  },
  {
   "cell_type": "markdown",
   "metadata": {},
   "source": [
    "## Hacking\n",
    "\n",
    "#### Project goals\n",
    "\n",
    "- Simple\n",
    "- Really simple\n",
    "- Simple enough to just write static documentation here\n",
    "- Simple enough that the examples in the documentation here can be the test suite\n",
    "- Don't try to do anything but create the charts and graphs.\n",
    "  Just functions that return strings.\n",
    "  Leave Twitter posting, statistical preprocessing,\n",
    "  and mixing output with other strings (titles, general writing, etc.)\n",
    "  to the user/other libraries.\n",
    "- Easy to use.\n",
    "- Just focused on the Twitter use case.\n",
    "  Not a general solution to the grand ASCII-art Data Viz Problem,\n",
    "  which is never-ending.\n",
    "  \n",
    "#### And also\n",
    "\n",
    "The README is generated from this Jupyter notebook. Don't forget to re-export it to README.md if you make changes.\n",
    "\n",
    "#### TODO\n",
    "\n",
    "- Well, yeah, maybe I do want to do bold and italic fonts as a utility function. Also maybe some variables bound to generally useful Unicode characters (smileys, Harvey balls, etc)\n",
    "\n",
    "A list of plots I got somewhere that looked at a quick glance like they might be possible. Not to be interpreted as firm intentions:\n",
    "\n",
    "- horiz bar\n",
    "- heatmap\n",
    "- stacked bar\n",
    "- boxplot\n",
    "- column sparkline\n",
    "- win/loss sparkline\n",
    "- treemap\n",
    "- matrix diagram\n",
    "- pictorial fracrion\n",
    "- horiz hist\n",
    "- waffle\n",
    "- funnel\n",
    "- linear process diag\n",
    "- grouped bar\n",
    "- nested/layered proportional area\n",
    "- pictorial unit\n",
    "- dot plot\n",
    "- pyramid diag\n",
    "- dumbell plot\n",
    "- bullet diag\n",
    "- partition layer chart icicle diag\n",
    "- stepped line graph\n",
    "- scaled up number\n",
    "- lollypop chart\n",
    "- comparison chart\n",
    "- kagi chart\n",
    "- dot matix\n",
    "- pictogram\n",
    "- stem and leaf \n"
   ]
  },
  {
   "cell_type": "code",
   "execution_count": null,
   "metadata": {},
   "outputs": [],
   "source": []
  }
 ],
 "metadata": {
  "kernelspec": {
   "display_name": "Python 3",
   "language": "python",
   "name": "python3"
  },
  "language_info": {
   "codemirror_mode": {
    "name": "ipython",
    "version": 3
   },
   "file_extension": ".py",
   "mimetype": "text/x-python",
   "name": "python",
   "nbconvert_exporter": "python",
   "pygments_lexer": "ipython3",
   "version": "3.8.6"
  }
 },
 "nbformat": 4,
 "nbformat_minor": 4
}
